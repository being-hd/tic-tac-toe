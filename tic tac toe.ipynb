{
 "cells": [
  {
   "cell_type": "code",
   "execution_count": 1,
   "id": "fd1f1ecb",
   "metadata": {},
   "outputs": [],
   "source": [
    "# Project 1: Tic Tac Toe Game"
   ]
  },
  {
   "cell_type": "code",
   "execution_count": 2,
   "id": "7ca0da68",
   "metadata": {},
   "outputs": [],
   "source": [
    "# A function to validate whether the given input is either X or O\n",
    "def validate_XO(choice):\n",
    "    \n",
    "    while choice not in ['X','O']:\n",
    "        choice = input('Wrong input ! Enter again: ')\n",
    "    return choice"
   ]
  },
  {
   "cell_type": "code",
   "execution_count": 3,
   "id": "03f5bd7a",
   "metadata": {},
   "outputs": [],
   "source": [
    "# A function to validate the choices entered by the user. The choices should be in range 1-9\n",
    "def validate_pos(choice):\n",
    "    \n",
    "    while choice not in \"123456789\":\n",
    "        choice = input(\"Wrong input ! Enter again: \")\n",
    "    return int(choice)"
   ]
  },
  {
   "cell_type": "code",
   "execution_count": 4,
   "id": "624adf28",
   "metadata": {},
   "outputs": [],
   "source": [
    "# A function to display the tic-tac-toe board\n",
    "def display_board(board):\n",
    "    clear_output()\n",
    "    print(f\" {board[7] or ' '} | {board[8] or ' '} | {board[9] or ' '} \")\n",
    "    print(\"---|---|---\")\n",
    "    print(f\" {board[4] or ' '} | {board[5] or ' '} | {board[6] or ' '} \")\n",
    "    print(\"---|---|---\")\n",
    "    print(f\" {board[1] or ' '} | {board[2] or ' '} | {board[3] or ' '} \")\n",
    "\n"
   ]
  },
  {
   "cell_type": "code",
   "execution_count": 5,
   "id": "8691381c",
   "metadata": {},
   "outputs": [],
   "source": [
    "# A function to check if either of the players have already won the game\n",
    "def check_win(b,player):\n",
    "    \n",
    "    if ((b[1] == b[2] == b[3] == \"X\") or (b[4] == b[5] == b[6] == \"X\") or (b[7] == b[8] == b[9] == \"X\") or\n",
    "        (b[1] == b[4] == b[7] == \"X\") or (b[2] == b[5] == b[8] == \"X\") or (b[3] == b[6] == b[9] == \"X\") or\n",
    "        (b[1] == b[5] == b[9] == \"X\") or (b[3] == b[5] == b[7] == \"X\")):\n",
    "        return player[\"X\"]\n",
    "    elif ((b[1] == b[2] == b[3] == \"O\") or (b[4] == b[5] == b[6] == \"O\") or (b[7] == b[8] == b[9] == \"O\") or\n",
    "          (b[1] == b[4] == b[7] == \"O\") or (b[2] == b[5] == b[8] == \"O\") or (b[3] == b[6] == b[9] == \"O\") or\n",
    "          (b[1] == b[5] == b[9] == \"O\") or (b[3] == b[5] == b[7] == \"O\")):\n",
    "        return player[\"O\"]\n",
    "    else:\n",
    "        return None\n"
   ]
  },
  {
   "cell_type": "code",
   "execution_count": 6,
   "id": "b3366366",
   "metadata": {},
   "outputs": [],
   "source": [
    "# A function to check if there has been a draw\n",
    "def check_draw(b,player):\n",
    "    \n",
    "    if '' not in b[1:] and check_win(b,player) is None:\n",
    "        return \"Draw\"\n",
    "    else:\n",
    "        return check_win(b,player)\n",
    "        "
   ]
  },
  {
   "cell_type": "code",
   "execution_count": 7,
   "id": "4e2506cf",
   "metadata": {},
   "outputs": [],
   "source": [
    "# A function to actually play the tic-tac-toe game based on user inputs\n",
    "def play_game(board,player):\n",
    "    \n",
    "    winner = None\n",
    "    filled_pos = []\n",
    "    \n",
    "    while winner is None:\n",
    "        \n",
    "        choice_Pos_P1 = input('Player 1: Enter position- ')\n",
    "        choice_Pos_P1 = validate_pos(choice_Pos_P1)\n",
    "        \n",
    "        while choice_Pos_P1 in filled_pos:\n",
    "            print(\"Position already filled !\")\n",
    "            choice_Pos_P1 = validate_pos(input(\"Player 1: Enter position- \"))\n",
    "        \n",
    "        board[choice_Pos_P1] = 'X'\n",
    "        filled_pos.append(choice_Pos_P1)\n",
    "        \n",
    "        clear_output()\n",
    "        display_board(board)\n",
    "        winner = check_win(board,player)\n",
    "        winner = check_draw(board,player)\n",
    "        if winner is not None:\n",
    "            break\n",
    "        \n",
    "        choice_Pos_P2 = input('Player 2: Enter position- ')\n",
    "        choice_Pos_P2 = validate_pos(choice_Pos_P2)\n",
    "        \n",
    "        while choice_Pos_P2 in filled_pos:\n",
    "            print(\"Position already filled !\")\n",
    "            choice_Pos_P2 = validate_pos(input(\"Player 2: Enter position- \"))\n",
    "        \n",
    "        board[choice_Pos_P2] = 'O'\n",
    "        filled_pos.append(choice_Pos_P2)\n",
    "        \n",
    "        clear_output()\n",
    "        display_board(board)\n",
    "        winner = check_win(board,player)\n",
    "        winner = check_draw(board,player)\n",
    "        if winner is not None:\n",
    "            break\n",
    "        \n",
    "    return winner"
   ]
  },
  {
   "cell_type": "code",
   "execution_count": 8,
   "id": "904d5797",
   "metadata": {},
   "outputs": [],
   "source": [
    "# The main function for a interactive user interface\n",
    "from IPython.display import clear_output\n",
    "\n",
    "def tictactoe():\n",
    "    \n",
    "    print('Welcome to Tic Tac Toe Game !')\n",
    "    choice_YN = input(\"Do you want to play ? Enter 'y' or 'n': \")\n",
    "    \n",
    "    if choice_YN == 'n':\n",
    "        return \"Have a Nice Day !\"\n",
    "    else:\n",
    "        # Initial Board\n",
    "        board = 10*['']\n",
    "        display_board(board)\n",
    "        print(\"Initial Board\")\n",
    "        print('\\n')\n",
    "        print(f\"Player 1: X\")\n",
    "        print(f\"Player 2: O\")\n",
    "        player = {'X':\"Player 1\",'O':\"Player 2\"}\n",
    "        \n",
    "        winner = play_game(board,player)\n",
    "        if winner != \"Draw\":\n",
    "            print('\\n')\n",
    "            print(f\"Congratulations ! {winner} is the winner !!\")\n",
    "        else:\n",
    "            print('\\n')\n",
    "            print(\"It's a draw.\")"
   ]
  },
  {
   "cell_type": "code",
   "execution_count": null,
   "id": "138e3e93",
   "metadata": {
    "scrolled": true
   },
   "outputs": [
    {
     "name": "stdout",
     "output_type": "stream",
     "text": [
      "   | X |   \n",
      "---|---|---\n",
      " O |   |   \n",
      "---|---|---\n",
      "   | X |   \n"
     ]
    }
   ],
   "source": [
    "tictactoe()"
   ]
  },
  {
   "cell_type": "code",
   "execution_count": null,
   "id": "d3abb1e4",
   "metadata": {},
   "outputs": [],
   "source": []
  }
 ],
 "metadata": {
  "kernelspec": {
   "display_name": "Python 3 (ipykernel)",
   "language": "python",
   "name": "python3"
  },
  "language_info": {
   "codemirror_mode": {
    "name": "ipython",
    "version": 3
   },
   "file_extension": ".py",
   "mimetype": "text/x-python",
   "name": "python",
   "nbconvert_exporter": "python",
   "pygments_lexer": "ipython3",
   "version": "3.9.13"
  }
 },
 "nbformat": 4,
 "nbformat_minor": 5
}
